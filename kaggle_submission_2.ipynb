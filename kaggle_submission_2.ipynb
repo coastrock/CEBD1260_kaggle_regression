{
 "cells": [
  {
   "cell_type": "code",
   "execution_count": 1,
   "metadata": {},
   "outputs": [],
   "source": [
    "# import the library\n",
    "%matplotlib inline\n",
    "\n",
    "import pandas as pd\n",
    "import numpy as np\n",
    "import matplotlib.pyplot as plt\n",
    "import seaborn as sns\n",
    "\n",
    "# sklearn :: utils\n",
    "from sklearn.model_selection import train_test_split\n",
    "\n",
    "# sklearn :: models\n",
    "from sklearn.neighbors import KNeighborsRegressor \n",
    "from sklearn.linear_model import LinearRegression\n",
    "from sklearn.tree import DecisionTreeRegressor\n",
    "from sklearn.ensemble import RandomForestRegressor\n",
    "\n",
    "# sklearn :: evaluation metrics\n",
    "from sklearn.metrics import mean_squared_error\n",
    "\n",
    "sns.set_style('whitegrid')"
   ]
  },
  {
   "cell_type": "markdown",
   "metadata": {},
   "source": [
    "# Problem definition"
   ]
  },
  {
   "cell_type": "markdown",
   "metadata": {},
   "source": [
    "Apply regression models to predict Airbnb prices"
   ]
  },
  {
   "cell_type": "markdown",
   "metadata": {},
   "source": [
    "# Load the data"
   ]
  },
  {
   "cell_type": "code",
   "execution_count": 2,
   "metadata": {},
   "outputs": [
    {
     "name": "stdout",
     "output_type": "stream",
     "text": [
      "(51000, 29) (23111, 28)\n"
     ]
    }
   ],
   "source": [
    "# input\n",
    "df_train = pd.read_csv('data/train.csv')\n",
    "df_test = pd.read_csv('data/test.csv')\n",
    "print(df_train.shape, df_test.shape)"
   ]
  },
  {
   "cell_type": "markdown",
   "metadata": {},
   "source": [
    "# Feature Engineering "
   ]
  },
  {
   "cell_type": "code",
   "execution_count": 3,
   "metadata": {},
   "outputs": [
    {
     "name": "stdout",
     "output_type": "stream",
     "text": [
      "Index(['id', 'log_price', 'property_type', 'room_type', 'amenities',\n",
      "       'accommodates', 'bathrooms', 'bed_type', 'cancellation_policy',\n",
      "       'cleaning_fee', 'city', 'description', 'first_review',\n",
      "       'host_has_profile_pic', 'host_identity_verified', 'host_response_rate',\n",
      "       'host_since', 'instant_bookable', 'last_review', 'latitude',\n",
      "       'longitude', 'name', 'neighbourhood', 'number_of_reviews',\n",
      "       'review_scores_rating', 'thumbnail_url', 'zipcode', 'bedrooms', 'beds'],\n",
      "      dtype='object')\n",
      "         id  log_price property_type        room_type  \\\n",
      "0  13662370   3.806662         House     Private room   \n",
      "1   4765892   4.941642     Apartment  Entire home/apt   \n",
      "2  21169968   4.941642     Apartment  Entire home/apt   \n",
      "3   7939196   4.867534     Apartment  Entire home/apt   \n",
      "4  18161036   3.663562         House     Private room   \n",
      "\n",
      "                                           amenities  accommodates  bathrooms  \\\n",
      "0  {TV,Internet,\"Wireless Internet\",\"Air conditio...             2        1.5   \n",
      "1  {TV,Internet,\"Wireless Internet\",\"Air conditio...             2        2.0   \n",
      "2  {TV,\"Cable TV\",\"Wireless Internet\",\"Air condit...             5        1.0   \n",
      "3  {\"Cable TV\",Internet,\"Wireless Internet\",\"Air ...             6        1.0   \n",
      "4  {Internet,\"Wireless Internet\",\"Air conditionin...             2        1.0   \n",
      "\n",
      "   bed_type cancellation_policy  cleaning_fee  ...    latitude   longitude  \\\n",
      "0  Real Bed              strict          True  ...   41.849684  -87.676270   \n",
      "1  Real Bed              strict          True  ...   34.068613 -118.246455   \n",
      "2  Real Bed            moderate          True  ...   40.701958  -73.917352   \n",
      "3  Real Bed              strict          True  ...   40.742959  -73.990820   \n",
      "4  Real Bed            flexible          True  ...   34.046473 -117.734095   \n",
      "\n",
      "                                             name      neighbourhood  \\\n",
      "0               Pilsen Arts Community Custom Home             Pilsen   \n",
      "1  Apartment 5 minutes from DTLA & Dodger Stadium          Echo Park   \n",
      "2  Brand New Huge 2bdr apartment(L,M train 2 min)           Bushwick   \n",
      "3                      Grande Super Large APT !!!  Flatiron District   \n",
      "4          Private Cozy and Clean Rooms in Pomona                NaN   \n",
      "\n",
      "  number_of_reviews review_scores_rating  \\\n",
      "0                17                 97.0   \n",
      "1                 2                100.0   \n",
      "2                25                 88.0   \n",
      "3                12                 82.0   \n",
      "4                 2                100.0   \n",
      "\n",
      "                                       thumbnail_url zipcode bedrooms  beds  \n",
      "0  https://a0.muscache.com/im/pictures/81318153/a...   60608      1.0   1.0  \n",
      "1  https://a0.muscache.com/im/pictures/aa00250e-0...   90012      1.0   1.0  \n",
      "2  https://a0.muscache.com/im/pictures/d9220535-c...   11237      2.0   3.0  \n",
      "3                                                NaN   10010      1.0   3.0  \n",
      "4  https://a0.muscache.com/im/pictures/e0c9b2f9-a...   91766      1.0   1.0  \n",
      "\n",
      "[5 rows x 29 columns]\n",
      "                 id     log_price  accommodates     bathrooms      latitude  \\\n",
      "count  5.100000e+04  51000.000000  51000.000000  50867.000000  51000.000000   \n",
      "mean   1.127396e+07      4.778693      3.153725      1.232420     38.452159   \n",
      "std    6.071084e+06      0.714838      2.165303      0.578569      3.077453   \n",
      "min    3.440000e+02      0.000000      1.000000      0.000000     33.338905   \n",
      "25%    6.311556e+06      4.304065      2.000000      1.000000     34.128569   \n",
      "50%    1.226652e+07      4.700480      2.000000      1.000000     40.662147   \n",
      "75%    1.639201e+07      5.216291      4.000000      1.000000     40.746418   \n",
      "max    2.123090e+07      7.600402     16.000000      8.000000     42.390248   \n",
      "\n",
      "          longitude  number_of_reviews  review_scores_rating      bedrooms  \\\n",
      "count  51000.000000       51000.000000          39550.000000  50937.000000   \n",
      "mean     -92.404169          21.010157             94.036359      1.265642   \n",
      "std       21.708577          38.073839              7.922591      0.856894   \n",
      "min     -122.510940           0.000000             20.000000      0.000000   \n",
      "25%     -118.342521           1.000000             92.000000      1.000000   \n",
      "50%      -76.996983           6.000000             96.000000      1.000000   \n",
      "75%      -73.954359          24.000000            100.000000      1.000000   \n",
      "max      -70.985047         605.000000            100.000000     10.000000   \n",
      "\n",
      "               beds  \n",
      "count  50915.000000  \n",
      "mean       1.709084  \n",
      "std        1.253278  \n",
      "min        0.000000  \n",
      "25%        1.000000  \n",
      "50%        1.000000  \n",
      "75%        2.000000  \n",
      "max       16.000000  \n"
     ]
    }
   ],
   "source": [
    "print(df_train.columns)\n",
    "print(df_train.head())\n",
    "print(df_train.describe())"
   ]
  },
  {
   "cell_type": "code",
   "execution_count": 4,
   "metadata": {},
   "outputs": [
    {
     "name": "stdout",
     "output_type": "stream",
     "text": [
      "['id', 'log_price', 'property_type', 'room_type', 'amenities', 'accommodates', 'bathrooms', 'bed_type', 'cancellation_policy', 'cleaning_fee', 'city', 'description', 'first_review', 'host_has_profile_pic', 'host_identity_verified', 'host_response_rate', 'host_since', 'instant_bookable', 'last_review', 'latitude', 'longitude', 'name', 'neighbourhood', 'number_of_reviews', 'review_scores_rating', 'thumbnail_url', 'zipcode', 'bedrooms', 'beds', ' ', '02108', '02109', '02110', '02111', '02113', '02114', '02115', '02116', '02118', '02119', '02120', '02121', '02122', '02124', '02125', '02126', '02127', '02128', '02129', '02130', '02131', '02132', '02134', '02135', '02136', '02138', '02139', '02145', '02152', '02186', '02199', '02210', '02215', '02445', '02446', '02467', '07306', '10000', '10001', '10001.0', '10002', '10002.0', '10003', '10003-8623', '10003.0', '10004', '10004.0', '10005', '10006', '10007', '10009', '10009.0', '10010', '10010.0', '10011', '10011.0', '10012', '10012.0', '10013', '10013.0', '10014', '10014.0', '10016', '10017', '10018', '10018.0', '10019', '10019.0', '10021', '10022', '10023', '10024', '10025', '10026', '10026.0', '10027', '10027.0', '10028', '10029', '10029.0', '10030', '10031', '10032', '10033', '10034', '10035', '10035.0', '10036', '10036.0', '10037', '10037.0', '10038', '10038.0', '10039', '10040', '10044', '10048', '10065', '10069', '10075', '10106', '10118', '10119.0', '10128', '10128.0', '10129', '10129.0', '10162', '10270', '10280', '10281', '10282', '10282.0', '10301', '10301.0', '10302', '10303', '10304', '10304.0', '10305', '10305.0', '10306', '10307', '10307.0', '10308', '10308.0', '10309', '10310', '10312', '10312.0', '10314', '10314.0', '10451', '10451.0', '10452', '10452.0', '10453', '10453.0', '10454', '10455', '10456', '10456.0', '10457', '10457.0', '10458', '10459', '10459.0', '10460', '10460.0', '10461', '10462', '10463', '10463.0', '10464', '10465', '10466', '10467', '10467.0', '10468', '10469', '10470', '10471', '10471.0', '10472', '10473', '10473.0', '10474', '10475', '10475.0', '10550.0', '10704', '11001', '11004', '11101', '11102', '11103', '11104', '11105', '11106', '11106.0', '11109', '11201', '11201.0', '11203', '11203.0', '11204', '11205', '11205.0', '11206', '11206.0', '11207', '11207.0', '11208.0', '11209', '11210', '11210.0', '11211', '11211.0', '11212', '11212.0', '11213', '11213.0', '11214', '11215', '11216', '11216.0', '11217', '11217.0', '11218', '11219', '11219.0', '11220', '11220.0', '11221', '11221.0', '11222', '11222.0', '11223', '11224', '11224.0', '11225', '11225.0', '11226', '11226.0', '11228.0', '11229', '11230', '11231', '11231.0', '11232', '11233', '11233.0', '11234', '11234.0', '11235', '11236', '11236.0', '11237', '11237.0', '11238', '11238.0', '11239.0', '11249', '11249.0', '11354', '11355', '11356.0', '11357', '11358', '11360', '11361', '11362', '11362.0', '11363.0', '11364', '11365', '11366', '11367', '11368', '11368.0', '11369.0', '11370', '11370.0', '11372', '11372.0', '11373', '11373.0', '11374', '11374.0', '11375', '11377', '11377.0', '11378', '11379', '11385', '11385-2308', '11411', '11411.0', '11412', '11412.0', '11413', '11414', '11415', '11416', '11417', '11418', '11419', '11420', '11421', '11422', '11423', '11426', '11427', '11428', '11429', '11429.0', '11432', '11433', '11434', '11435', '11436', '11509.0', '11580.0', '11691', '11692', '11693', '11694', '15074', '1m', '20001', '20001-4044', '20002', '20003', '20004', '20005', '20006', '20007', '20007-3413', '20008', '20009', '20010', '20011', '20012', '20015', '20016', '20017', '20018', '20019', '20020', '20024', '20032', '20036', '20037', '20052', '20064', '20268', '20372', '20712', '20743', '20748', '20782', '20816', '20910', '20912', '210', '60601', '60602', '60605', '60606', '60607', '60608', '60609', '60610', '60611', '60612', '60613', '60614', '60615', '60616', '60617', '60618', '60619', '60620', '60621', '60622', '60623', '60624', '60625', '60626', '60628', '60629', '60630', '60631', '60632', '60634', '60636', '60637', '60638', '60639', '60640', '60641', '60642', '60643', '60644', '60645', '60646', '60647', '60649', '60651', '60652', '60653', '60654', '60656', '60657', '60659', '60660', '60660-1448', '60661', '60707', '7302.0', '90001', '90002', '90003', '90004', '90005', '90006', '90007', '90008', '90010', '90011', '90012', '90013', '90014', '90015', '90016', '90017', '90018', '90019', '90020', '90021', '90022', '90023', '90024', '90025', '90026', '90027', '90028', '90029', '90031', '90032', '90033', '90034', '90034-2203', '90035', '90035-4475', '90036', '90036-2514', '90037', '90038', '90039', '90039-2715', '9004', '90040', '90041', '90042', '90043', '90044', '90045', '90046', '90047', '90048', '90049', '90056', '90057', '90058', '90059', '90061', '90062', '90063', '90064', '90065', '90066', '90067', '90068', '90069', '90071', '90077', '90094', '90095', '90210', '90211', '90212', '90220', '90221', '90222', '90230', '90232', '90240', '90241', '90242', '90245', '90247', '90248', '90249', '90250', '90254', '90255', '90260', '90262', '90265', '90266', '90272', '90274', '90275', '90277', '90278', '90280', '90290', '90291', '90292', '90293', '90301', '90302', '90303', '90304', '90305', '90401', '90402', '90403', '90403-2638', '90404', '90405', '90501', '90502', '90503', '90504', '90505', '90601', '90602', '90603', '90604', '90605', '90606', '90630', '90631', '90638', '90640', '90650', '90660', '90670', '90701', '90703', '90704', '90706', '90710', '90712', '90713', '90715', '90716', '90717', '90723', '90731', '90732', '90744', '90745', '90746', '90755', '90802', '90803', '90804', '90805', '90806', '90807', '90808', '90810', '90813', '90814', '90815', '91001', '91001-2243', '91006', '91007', '91008', '91010', '91011', '91016', '91020', '91024', '91030', '91040', '91042', '91101', '91103', '91104', '91105', '91106', '91107', '91108', '91201', '91202', '91203', '91204', '91205', '91206', '91207', '91208', '91210', '91214', '91301', '91302', '91303', '91304', '91306', '91307', '91308', '91311', '91316', '91321', '91324', '91325', '91326', '91331', '91335', '91340', '91342', '91343', '91344', '91345', '91350', '91352', '91354', '91355', '91356', '91361', '91362', '91364', '91367', '91381', '91384', '91387', '91390', '91401', '91402', '91403', '91405', '91406', '91411', '91423', '91436', '91501', '91502', '91504', '91505', '91506', '91523', '91601', '91602', '91604', '91605', '91606', '91606-1412', '91607', '91702', '91706', '91708', '91711', '91722', '91723', '91724', '91731', '91732', '91733', '91740', '91741', '91744', '91745', '91746', '91748', '91750', '91754', '91755', '91764', '91765', '91766', '91767', '91768', '91770', '91773', '91775', '91776', '91780', '91786', '91789', '91790', '91791', '91792', '91801', '91802', '91803', '92397', '92614', '92821', '92880', '93532', '93534', '93535', '93536', '93543', '93550', '93551', '93552', '93563', '94014', '94014.0', '94102', '94102.0', '94103', '94103.0', '94104', '94104.0', '94105', '94107', '94108', '94109', '94109.0', '94110', '94111', '94112', '94114', '94114.0', '94115', '94115.0', '94116', '94117', '94117.0', '94118', '94118.0', '94121', '94122', '94122.0', '94123', '94124', '94127', '94129', '94130', '94131', '94132', '94133', '94134', '94158', '95202\\r\\r\\r\\r\\r\\r\\r\\n\\r\\r\\r\\r\\r\\r\\r\\n\\r\\r\\r\\r\\r\\r\\r\\n94158']\n"
     ]
    },
    {
     "data": {
      "text/html": [
       "<div>\n",
       "<style scoped>\n",
       "    .dataframe tbody tr th:only-of-type {\n",
       "        vertical-align: middle;\n",
       "    }\n",
       "\n",
       "    .dataframe tbody tr th {\n",
       "        vertical-align: top;\n",
       "    }\n",
       "\n",
       "    .dataframe thead th {\n",
       "        text-align: right;\n",
       "    }\n",
       "</style>\n",
       "<table border=\"1\" class=\"dataframe\">\n",
       "  <thead>\n",
       "    <tr style=\"text-align: right;\">\n",
       "      <th></th>\n",
       "      <th>id</th>\n",
       "      <th>log_price</th>\n",
       "      <th>property_type</th>\n",
       "      <th>room_type</th>\n",
       "      <th>amenities</th>\n",
       "      <th>accommodates</th>\n",
       "      <th>bathrooms</th>\n",
       "      <th>bed_type</th>\n",
       "      <th>cancellation_policy</th>\n",
       "      <th>cleaning_fee</th>\n",
       "      <th>...</th>\n",
       "      <th>94124</th>\n",
       "      <th>94127</th>\n",
       "      <th>94129</th>\n",
       "      <th>94130</th>\n",
       "      <th>94131</th>\n",
       "      <th>94132</th>\n",
       "      <th>94133</th>\n",
       "      <th>94134</th>\n",
       "      <th>94158</th>\n",
       "      <th>95202\r",
       "\r",
       "\r",
       "\r",
       "\r",
       "\r",
       "\r\n",
       "\r",
       "\r",
       "\r",
       "\r",
       "\r",
       "\r",
       "\r\n",
       "\r",
       "\r",
       "\r",
       "\r",
       "\r",
       "\r",
       "\r\n",
       "94158</th>\n",
       "    </tr>\n",
       "  </thead>\n",
       "  <tbody>\n",
       "    <tr>\n",
       "      <th>0</th>\n",
       "      <td>13662370</td>\n",
       "      <td>3.806662</td>\n",
       "      <td>House</td>\n",
       "      <td>Private room</td>\n",
       "      <td>{TV,Internet,\"Wireless Internet\",\"Air conditio...</td>\n",
       "      <td>2</td>\n",
       "      <td>1.5</td>\n",
       "      <td>Real Bed</td>\n",
       "      <td>strict</td>\n",
       "      <td>True</td>\n",
       "      <td>...</td>\n",
       "      <td>0</td>\n",
       "      <td>0</td>\n",
       "      <td>0</td>\n",
       "      <td>0</td>\n",
       "      <td>0</td>\n",
       "      <td>0</td>\n",
       "      <td>0</td>\n",
       "      <td>0</td>\n",
       "      <td>0</td>\n",
       "      <td>0</td>\n",
       "    </tr>\n",
       "    <tr>\n",
       "      <th>1</th>\n",
       "      <td>4765892</td>\n",
       "      <td>4.941642</td>\n",
       "      <td>Apartment</td>\n",
       "      <td>Entire home/apt</td>\n",
       "      <td>{TV,Internet,\"Wireless Internet\",\"Air conditio...</td>\n",
       "      <td>2</td>\n",
       "      <td>2.0</td>\n",
       "      <td>Real Bed</td>\n",
       "      <td>strict</td>\n",
       "      <td>True</td>\n",
       "      <td>...</td>\n",
       "      <td>0</td>\n",
       "      <td>0</td>\n",
       "      <td>0</td>\n",
       "      <td>0</td>\n",
       "      <td>0</td>\n",
       "      <td>0</td>\n",
       "      <td>0</td>\n",
       "      <td>0</td>\n",
       "      <td>0</td>\n",
       "      <td>0</td>\n",
       "    </tr>\n",
       "    <tr>\n",
       "      <th>2</th>\n",
       "      <td>21169968</td>\n",
       "      <td>4.941642</td>\n",
       "      <td>Apartment</td>\n",
       "      <td>Entire home/apt</td>\n",
       "      <td>{TV,\"Cable TV\",\"Wireless Internet\",\"Air condit...</td>\n",
       "      <td>5</td>\n",
       "      <td>1.0</td>\n",
       "      <td>Real Bed</td>\n",
       "      <td>moderate</td>\n",
       "      <td>True</td>\n",
       "      <td>...</td>\n",
       "      <td>0</td>\n",
       "      <td>0</td>\n",
       "      <td>0</td>\n",
       "      <td>0</td>\n",
       "      <td>0</td>\n",
       "      <td>0</td>\n",
       "      <td>0</td>\n",
       "      <td>0</td>\n",
       "      <td>0</td>\n",
       "      <td>0</td>\n",
       "    </tr>\n",
       "    <tr>\n",
       "      <th>3</th>\n",
       "      <td>7939196</td>\n",
       "      <td>4.867534</td>\n",
       "      <td>Apartment</td>\n",
       "      <td>Entire home/apt</td>\n",
       "      <td>{\"Cable TV\",Internet,\"Wireless Internet\",\"Air ...</td>\n",
       "      <td>6</td>\n",
       "      <td>1.0</td>\n",
       "      <td>Real Bed</td>\n",
       "      <td>strict</td>\n",
       "      <td>True</td>\n",
       "      <td>...</td>\n",
       "      <td>0</td>\n",
       "      <td>0</td>\n",
       "      <td>0</td>\n",
       "      <td>0</td>\n",
       "      <td>0</td>\n",
       "      <td>0</td>\n",
       "      <td>0</td>\n",
       "      <td>0</td>\n",
       "      <td>0</td>\n",
       "      <td>0</td>\n",
       "    </tr>\n",
       "    <tr>\n",
       "      <th>4</th>\n",
       "      <td>18161036</td>\n",
       "      <td>3.663562</td>\n",
       "      <td>House</td>\n",
       "      <td>Private room</td>\n",
       "      <td>{Internet,\"Wireless Internet\",\"Air conditionin...</td>\n",
       "      <td>2</td>\n",
       "      <td>1.0</td>\n",
       "      <td>Real Bed</td>\n",
       "      <td>flexible</td>\n",
       "      <td>True</td>\n",
       "      <td>...</td>\n",
       "      <td>0</td>\n",
       "      <td>0</td>\n",
       "      <td>0</td>\n",
       "      <td>0</td>\n",
       "      <td>0</td>\n",
       "      <td>0</td>\n",
       "      <td>0</td>\n",
       "      <td>0</td>\n",
       "      <td>0</td>\n",
       "      <td>0</td>\n",
       "    </tr>\n",
       "  </tbody>\n",
       "</table>\n",
       "<p>5 rows × 761 columns</p>\n",
       "</div>"
      ],
      "text/plain": [
       "         id  log_price property_type        room_type  \\\n",
       "0  13662370   3.806662         House     Private room   \n",
       "1   4765892   4.941642     Apartment  Entire home/apt   \n",
       "2  21169968   4.941642     Apartment  Entire home/apt   \n",
       "3   7939196   4.867534     Apartment  Entire home/apt   \n",
       "4  18161036   3.663562         House     Private room   \n",
       "\n",
       "                                           amenities  accommodates  bathrooms  \\\n",
       "0  {TV,Internet,\"Wireless Internet\",\"Air conditio...             2        1.5   \n",
       "1  {TV,Internet,\"Wireless Internet\",\"Air conditio...             2        2.0   \n",
       "2  {TV,\"Cable TV\",\"Wireless Internet\",\"Air condit...             5        1.0   \n",
       "3  {\"Cable TV\",Internet,\"Wireless Internet\",\"Air ...             6        1.0   \n",
       "4  {Internet,\"Wireless Internet\",\"Air conditionin...             2        1.0   \n",
       "\n",
       "   bed_type cancellation_policy  cleaning_fee  \\\n",
       "0  Real Bed              strict          True   \n",
       "1  Real Bed              strict          True   \n",
       "2  Real Bed            moderate          True   \n",
       "3  Real Bed              strict          True   \n",
       "4  Real Bed            flexible          True   \n",
       "\n",
       "                              ...                             94124 94127  \\\n",
       "0                             ...                                 0     0   \n",
       "1                             ...                                 0     0   \n",
       "2                             ...                                 0     0   \n",
       "3                             ...                                 0     0   \n",
       "4                             ...                                 0     0   \n",
       "\n",
       "  94129 94130 94131 94132 94133 94134 94158  \\\n",
       "0     0     0     0     0     0     0     0   \n",
       "1     0     0     0     0     0     0     0   \n",
       "2     0     0     0     0     0     0     0   \n",
       "3     0     0     0     0     0     0     0   \n",
       "4     0     0     0     0     0     0     0   \n",
       "\n",
       "   95202\\r\\r\\r\\r\\r\\r\\r\\n\\r\\r\\r\\r\\r\\r\\r\\n\\r\\r\\r\\r\\r\\r\\r\\n94158  \n",
       "0                                                  0           \n",
       "1                                                  0           \n",
       "2                                                  0           \n",
       "3                                                  0           \n",
       "4                                                  0           \n",
       "\n",
       "[5 rows x 761 columns]"
      ]
     },
     "execution_count": 4,
     "metadata": {},
     "output_type": "execute_result"
    }
   ],
   "source": [
    "# zipcode to numerical columns\n",
    "df_zipcode = pd.get_dummies(df_train['zipcode'])\n",
    "df = pd.concat([df_train, df_zipcode], axis=1).fillna(0.0)\n",
    "print(list(df.columns))\n",
    "df.head()\n"
   ]
  },
  {
   "cell_type": "code",
   "execution_count": 5,
   "metadata": {},
   "outputs": [],
   "source": [
    "# select the columns\n",
    "X_columns = ['accommodates', 'bathrooms', 'bedrooms', 'beds', 'review_scores_rating'] + list(df_zipcode.columns)\n",
    "y_column = ['log_price']"
   ]
  },
  {
   "cell_type": "code",
   "execution_count": 6,
   "metadata": {},
   "outputs": [
    {
     "name": "stdout",
     "output_type": "stream",
     "text": [
      "(51000, 6)\n",
      "accommodates                0\n",
      "bathrooms                 133\n",
      "bedrooms                   63\n",
      "beds                       85\n",
      "review_scores_rating    11450\n",
      "log_price                   0\n",
      "dtype: int64\n",
      "(51000, 6)\n",
      "accommodates            0\n",
      "bathrooms               0\n",
      "bedrooms                0\n",
      "beds                    0\n",
      "review_scores_rating    0\n",
      "log_price               0\n",
      "dtype: int64\n"
     ]
    }
   ],
   "source": [
    "# handle missing values\n",
    "df_train = df_train[X_columns + y_column]\n",
    "print(df_train.shape)\n",
    "print(df_train.isnull().sum())\n",
    "#df_train['review_scores_rating'] = df_train['review_scores_rating'].fillna(df_train['review_scores_rating'].mean)\n",
    "df_train['review_scores_rating'] = df_train['review_scores_rating'].fillna(94.03)\n",
    "df_train = df_train.fillna(0.0)\n",
    "print(df_train.shape)\n",
    "print(df_train.isnull().sum())\n"
   ]
  },
  {
   "cell_type": "markdown",
   "metadata": {},
   "source": [
    "# Model Training"
   ]
  },
  {
   "cell_type": "code",
   "execution_count": 7,
   "metadata": {},
   "outputs": [
    {
     "name": "stdout",
     "output_type": "stream",
     "text": [
      "X_train (40800, 5)\n",
      "y_train (40800, 1)\n",
      "X_test (10200, 5)\n",
      "y_test (10200, 1)\n"
     ]
    }
   ],
   "source": [
    "# split the data using sklearn\n",
    "\n",
    "threshold = 0.8\n",
    "X = df_train[X_columns]\n",
    "y = df_train[y_column]\n",
    "X_train, X_test, y_train, y_test = train_test_split(X, y, test_size=1.0-threshold, shuffle=True)\n",
    "\n",
    "print('X_train', X_train.shape)\n",
    "print('y_train', y_train.shape)\n",
    "print('X_test', X_test.shape)\n",
    "print('y_test', y_test.shape)"
   ]
  },
  {
   "cell_type": "code",
   "execution_count": 8,
   "metadata": {},
   "outputs": [],
   "source": [
    "# model_training function\n",
    "def model_training(model_name, model, X_train, y_train):\n",
    "    model.fit(X_train, y_train)\n",
    "    return model"
   ]
  },
  {
   "cell_type": "code",
   "execution_count": 9,
   "metadata": {},
   "outputs": [],
   "source": [
    "# model_prediction function\n",
    "def model_prediction(model, X_test):\n",
    "    y_pred = model.predict(X_test)\n",
    "    return y_pred"
   ]
  },
  {
   "cell_type": "code",
   "execution_count": 10,
   "metadata": {},
   "outputs": [],
   "source": [
    "# train a knn regressor model\n",
    "#model_KNN = KNeighborsRegressor(10)\n",
    "#model_KNN.fit(X_train, y_train)\n",
    "#y_pred_KNN = model_KNN.predict(X_test)"
   ]
  },
  {
   "cell_type": "code",
   "execution_count": 11,
   "metadata": {},
   "outputs": [],
   "source": [
    "# train a linear regression model\n",
    "#model_LR = LinearRegression()\n",
    "#model_LR.fit(X_train, y_train)\n",
    "#y_pred_LR = model_LR.predict(X_test)"
   ]
  },
  {
   "cell_type": "code",
   "execution_count": 12,
   "metadata": {},
   "outputs": [],
   "source": [
    "# train a decision tree regressor model\n",
    "#model_DT = DecisionTreeRegressor()\n",
    "#model_DT.fit(X_train, y_train)\n",
    "#y_pred_DT = model_DT.predict(X_test)"
   ]
  },
  {
   "cell_type": "code",
   "execution_count": 13,
   "metadata": {},
   "outputs": [],
   "source": [
    "# train a random forest model\n",
    "#model_RF = RandomForestRegressor()\n",
    "#model_RF.fit(X_train, y_train)\n",
    "#y_pred_RF = model_RF.predict(X_test)"
   ]
  },
  {
   "cell_type": "markdown",
   "metadata": {},
   "source": [
    "# Model Evaluation"
   ]
  },
  {
   "cell_type": "code",
   "execution_count": 14,
   "metadata": {},
   "outputs": [],
   "source": [
    "# model_evaluation function\n",
    "def model_evaluation(model_name, y_test, y_pred):\n",
    "    print(model_name)\n",
    "    print('RMSE', np.sqrt(mean_squared_error(y_test, y_pred)))\n",
    "    plt.scatter(y_test, y_pred, alpha=0.3)\n",
    "    plt.plot(range(0,10), range(0,10), '--r', alpha=0.3, label='Line1')\n",
    "    plt.title(model_name)\n",
    "    plt.xlabel('True Value')\n",
    "    plt.ylabel('Predict Value')\n",
    "    plt.show()\n",
    "    print('')"
   ]
  },
  {
   "cell_type": "code",
   "execution_count": 15,
   "metadata": {},
   "outputs": [],
   "source": [
    "#rmse = np.sqrt(mean_squared_error(y_test, y_pred))\n",
    "#print('RMSE', round(rmse, 2))\n",
    "#plt.scatter(y_test, y_pred, alpha=0.3)\n",
    "#plt.plot(range(0,10), range(0,10), '--r', alpha=0.3, label='Line1')\n",
    "#plt.title('Linear Regression')\n",
    "#plt.xlabel('True Value')\n",
    "#plt.ylabel('Predict Value')\n",
    "#plt.show()"
   ]
  },
  {
   "cell_type": "markdown",
   "metadata": {},
   "source": [
    "# Experiments"
   ]
  },
  {
   "cell_type": "code",
   "execution_count": 16,
   "metadata": {},
   "outputs": [
    {
     "name": "stdout",
     "output_type": "stream",
     "text": [
      "Linear Regression\n",
      "RMSE 0.5725261445829024\n"
     ]
    },
    {
     "data": {
      "image/png": "[encoded data removed]",
      "text/plain": [
       "<Figure size 432x288 with 1 Axes>"
      ]
     },
     "metadata": {
      "needs_background": "light"
     },
     "output_type": "display_data"
    },
    {
     "name": "stdout",
     "output_type": "stream",
     "text": [
      "\n",
      "KNN 5\n",
      "RMSE 0.5668182508279653\n"
     ]
    },
    {
     "data": {
      "image/png": "[encoded data removed]",
      "text/plain": [
       "<Figure size 432x288 with 1 Axes>"
      ]
     },
     "metadata": {
      "needs_background": "light"
     },
     "output_type": "display_data"
    },
    {
     "name": "stdout",
     "output_type": "stream",
     "text": [
      "\n",
      "KNN 2\n",
      "RMSE 0.6119728518929403\n"
     ]
    },
    {
     "data": {
      "image/png": "[encoded data removed]",
      "text/plain": [
       "<Figure size 432x288 with 1 Axes>"
      ]
     },
     "metadata": {
      "needs_background": "light"
     },
     "output_type": "display_data"
    },
    {
     "name": "stdout",
     "output_type": "stream",
     "text": [
      "\n",
      "Decision Tree\n",
      "RMSE 0.5545611201462102\n"
     ]
    },
    {
     "data": {
      "image/png": "[encoded data removed]",
      "text/plain": [
       "<Figure size 432x288 with 1 Axes>"
      ]
     },
     "metadata": {
      "needs_background": "light"
     },
     "output_type": "display_data"
    },
    {
     "name": "stdout",
     "output_type": "stream",
     "text": [
      "\n"
     ]
    },
    {
     "name": "stderr",
     "output_type": "stream",
     "text": [
      "/home/coastrock/anaconda3/lib/python3.7/site-packages/ipykernel_launcher.py:3: DataConversionWarning: A column-vector y was passed when a 1d array was expected. Please change the shape of y to (n_samples,), for example using ravel().\n",
      "  This is separate from the ipykernel package so we can avoid doing imports until\n"
     ]
    },
    {
     "name": "stdout",
     "output_type": "stream",
     "text": [
      "Random Forest 10\n",
      "RMSE 0.5357869430412484\n"
     ]
    },
    {
     "data": {
      "image/png": "[encoded data removed]",
      "text/plain": [
       "<Figure size 432x288 with 1 Axes>"
      ]
     },
     "metadata": {
      "needs_background": "light"
     },
     "output_type": "display_data"
    },
    {
     "name": "stdout",
     "output_type": "stream",
     "text": [
      "\n"
     ]
    },
    {
     "name": "stderr",
     "output_type": "stream",
     "text": [
      "/home/coastrock/anaconda3/lib/python3.7/site-packages/ipykernel_launcher.py:3: DataConversionWarning: A column-vector y was passed when a 1d array was expected. Please change the shape of y to (n_samples,), for example using ravel().\n",
      "  This is separate from the ipykernel package so we can avoid doing imports until\n"
     ]
    },
    {
     "name": "stdout",
     "output_type": "stream",
     "text": [
      "Random Forest 100\n",
      "RMSE 0.5323367900181591\n"
     ]
    },
    {
     "data": {
      "image/png": "[encoded data removed]",
      "text/plain": [
       "<Figure size 432x288 with 1 Axes>"
      ]
     },
     "metadata": {
      "needs_background": "light"
     },
     "output_type": "display_data"
    },
    {
     "name": "stdout",
     "output_type": "stream",
     "text": [
      "\n"
     ]
    }
   ],
   "source": [
    "# run_experiment function\n",
    "def run_experiment(model_name, model, X_train, y_train, X_test):\n",
    "    train_model = model_training(model_name, model, X_train, y_train)\n",
    "    predictions = model_prediction(train_model, X_test)\n",
    "    model_evaluation(model_name, y_test, predictions)\n",
    "    \n",
    "run_experiment('Linear Regression', LinearRegression(), X_train, y_train, X_test)\n",
    "run_experiment('KNN 5', KNeighborsRegressor(5), X_train, y_train, X_test)\n",
    "run_experiment('KNN 2', KNeighborsRegressor(2), X_train, y_train, X_test)\n",
    "run_experiment('Decision Tree', DecisionTreeRegressor(), X_train, y_train, X_test)\n",
    "run_experiment('Random Forest 10', RandomForestRegressor(10), X_train, y_train, X_test)\n",
    "run_experiment('Random Forest 100', RandomForestRegressor(100), X_train, y_train, X_test)"
   ]
  },
  {
   "cell_type": "markdown",
   "metadata": {},
   "source": [
    "# Error Analysis"
   ]
  },
  {
   "cell_type": "code",
   "execution_count": 17,
   "metadata": {},
   "outputs": [
    {
     "name": "stderr",
     "output_type": "stream",
     "text": [
      "/home/coastrock/anaconda3/lib/python3.7/site-packages/ipykernel_launcher.py:2: DataConversionWarning: A column-vector y was passed when a 1d array was expected. Please change the shape of y to (n_samples,), for example using ravel().\n",
      "  \n"
     ]
    }
   ],
   "source": [
    "model = RandomForestRegressor(100)\n",
    "model.fit(X_train, y_train)\n",
    "y_pred = model.predict(X_test)"
   ]
  },
  {
   "cell_type": "code",
   "execution_count": 18,
   "metadata": {},
   "outputs": [
    {
     "data": {
      "text/html": [
       "<div>\n",
       "<style scoped>\n",
       "    .dataframe tbody tr th:only-of-type {\n",
       "        vertical-align: middle;\n",
       "    }\n",
       "\n",
       "    .dataframe tbody tr th {\n",
       "        vertical-align: top;\n",
       "    }\n",
       "\n",
       "    .dataframe thead th {\n",
       "        text-align: right;\n",
       "    }\n",
       "</style>\n",
       "<table border=\"1\" class=\"dataframe\">\n",
       "  <thead>\n",
       "    <tr style=\"text-align: right;\">\n",
       "      <th></th>\n",
       "      <th>0</th>\n",
       "      <th>1</th>\n",
       "    </tr>\n",
       "  </thead>\n",
       "  <tbody>\n",
       "    <tr>\n",
       "      <th>2</th>\n",
       "      <td>bedrooms</td>\n",
       "      <td>0.530940</td>\n",
       "    </tr>\n",
       "    <tr>\n",
       "      <th>0</th>\n",
       "      <td>accommodates</td>\n",
       "      <td>0.198451</td>\n",
       "    </tr>\n",
       "    <tr>\n",
       "      <th>1</th>\n",
       "      <td>bathrooms</td>\n",
       "      <td>0.124848</td>\n",
       "    </tr>\n",
       "    <tr>\n",
       "      <th>4</th>\n",
       "      <td>review_scores_rating</td>\n",
       "      <td>0.094332</td>\n",
       "    </tr>\n",
       "    <tr>\n",
       "      <th>3</th>\n",
       "      <td>beds</td>\n",
       "      <td>0.051429</td>\n",
       "    </tr>\n",
       "  </tbody>\n",
       "</table>\n",
       "</div>"
      ],
      "text/plain": [
       "                      0         1\n",
       "2              bedrooms  0.530940\n",
       "0          accommodates  0.198451\n",
       "1             bathrooms  0.124848\n",
       "4  review_scores_rating  0.094332\n",
       "3                  beds  0.051429"
      ]
     },
     "execution_count": 18,
     "metadata": {},
     "output_type": "execute_result"
    }
   ],
   "source": [
    "#for i in range(len(X_test.columns)):\n",
    "fi = []\n",
    "for i, col in enumerate(X_test.columns):\n",
    "    fi.append([col, model.feature_importances_[i]])\n",
    "pd.DataFrame(fi).sort_values(1, ascending=False)"
   ]
  },
  {
   "cell_type": "markdown",
   "metadata": {},
   "source": [
    "# Prepare submission"
   ]
  },
  {
   "cell_type": "code",
   "execution_count": 19,
   "metadata": {},
   "outputs": [
    {
     "data": {
      "text/html": [
       "<div>\n",
       "<style scoped>\n",
       "    .dataframe tbody tr th:only-of-type {\n",
       "        vertical-align: middle;\n",
       "    }\n",
       "\n",
       "    .dataframe tbody tr th {\n",
       "        vertical-align: top;\n",
       "    }\n",
       "\n",
       "    .dataframe thead th {\n",
       "        text-align: right;\n",
       "    }\n",
       "</style>\n",
       "<table border=\"1\" class=\"dataframe\">\n",
       "  <thead>\n",
       "    <tr style=\"text-align: right;\">\n",
       "      <th></th>\n",
       "      <th>id</th>\n",
       "      <th>log_price</th>\n",
       "    </tr>\n",
       "  </thead>\n",
       "  <tbody>\n",
       "    <tr>\n",
       "      <th>0</th>\n",
       "      <td>986942</td>\n",
       "      <td>4.547145</td>\n",
       "    </tr>\n",
       "    <tr>\n",
       "      <th>1</th>\n",
       "      <td>16436737</td>\n",
       "      <td>4.602544</td>\n",
       "    </tr>\n",
       "    <tr>\n",
       "      <th>2</th>\n",
       "      <td>18209634</td>\n",
       "      <td>4.091430</td>\n",
       "    </tr>\n",
       "    <tr>\n",
       "      <th>3</th>\n",
       "      <td>15027024</td>\n",
       "      <td>4.318025</td>\n",
       "    </tr>\n",
       "    <tr>\n",
       "      <th>4</th>\n",
       "      <td>18074243</td>\n",
       "      <td>5.361263</td>\n",
       "    </tr>\n",
       "    <tr>\n",
       "      <th>5</th>\n",
       "      <td>8446914</td>\n",
       "      <td>4.553959</td>\n",
       "    </tr>\n",
       "    <tr>\n",
       "      <th>6</th>\n",
       "      <td>19362916</td>\n",
       "      <td>5.240001</td>\n",
       "    </tr>\n",
       "    <tr>\n",
       "      <th>7</th>\n",
       "      <td>16116059</td>\n",
       "      <td>5.477441</td>\n",
       "    </tr>\n",
       "    <tr>\n",
       "      <th>8</th>\n",
       "      <td>20912583</td>\n",
       "      <td>4.318025</td>\n",
       "    </tr>\n",
       "    <tr>\n",
       "      <th>9</th>\n",
       "      <td>13573101</td>\n",
       "      <td>4.969731</td>\n",
       "    </tr>\n",
       "    <tr>\n",
       "      <th>10</th>\n",
       "      <td>15938749</td>\n",
       "      <td>5.071893</td>\n",
       "    </tr>\n",
       "    <tr>\n",
       "      <th>11</th>\n",
       "      <td>13659214</td>\n",
       "      <td>3.980456</td>\n",
       "    </tr>\n",
       "    <tr>\n",
       "      <th>12</th>\n",
       "      <td>6239753</td>\n",
       "      <td>4.699653</td>\n",
       "    </tr>\n",
       "    <tr>\n",
       "      <th>13</th>\n",
       "      <td>11627400</td>\n",
       "      <td>5.151039</td>\n",
       "    </tr>\n",
       "    <tr>\n",
       "      <th>14</th>\n",
       "      <td>17794295</td>\n",
       "      <td>4.515364</td>\n",
       "    </tr>\n",
       "    <tr>\n",
       "      <th>15</th>\n",
       "      <td>15267276</td>\n",
       "      <td>5.183351</td>\n",
       "    </tr>\n",
       "    <tr>\n",
       "      <th>16</th>\n",
       "      <td>9476370</td>\n",
       "      <td>5.001296</td>\n",
       "    </tr>\n",
       "    <tr>\n",
       "      <th>17</th>\n",
       "      <td>14694999</td>\n",
       "      <td>5.218716</td>\n",
       "    </tr>\n",
       "    <tr>\n",
       "      <th>18</th>\n",
       "      <td>19847012</td>\n",
       "      <td>4.746012</td>\n",
       "    </tr>\n",
       "    <tr>\n",
       "      <th>19</th>\n",
       "      <td>8860277</td>\n",
       "      <td>4.547145</td>\n",
       "    </tr>\n",
       "    <tr>\n",
       "      <th>20</th>\n",
       "      <td>2975445</td>\n",
       "      <td>5.527490</td>\n",
       "    </tr>\n",
       "    <tr>\n",
       "      <th>21</th>\n",
       "      <td>1390712</td>\n",
       "      <td>4.992982</td>\n",
       "    </tr>\n",
       "    <tr>\n",
       "      <th>22</th>\n",
       "      <td>16144412</td>\n",
       "      <td>4.235936</td>\n",
       "    </tr>\n",
       "    <tr>\n",
       "      <th>23</th>\n",
       "      <td>1312673</td>\n",
       "      <td>4.857768</td>\n",
       "    </tr>\n",
       "    <tr>\n",
       "      <th>24</th>\n",
       "      <td>6645473</td>\n",
       "      <td>4.547145</td>\n",
       "    </tr>\n",
       "    <tr>\n",
       "      <th>25</th>\n",
       "      <td>7227023</td>\n",
       "      <td>5.551626</td>\n",
       "    </tr>\n",
       "    <tr>\n",
       "      <th>26</th>\n",
       "      <td>17283456</td>\n",
       "      <td>5.151039</td>\n",
       "    </tr>\n",
       "    <tr>\n",
       "      <th>27</th>\n",
       "      <td>13719227</td>\n",
       "      <td>4.459380</td>\n",
       "    </tr>\n",
       "    <tr>\n",
       "      <th>28</th>\n",
       "      <td>11413078</td>\n",
       "      <td>4.181631</td>\n",
       "    </tr>\n",
       "    <tr>\n",
       "      <th>29</th>\n",
       "      <td>15166399</td>\n",
       "      <td>4.318025</td>\n",
       "    </tr>\n",
       "    <tr>\n",
       "      <th>...</th>\n",
       "      <td>...</td>\n",
       "      <td>...</td>\n",
       "    </tr>\n",
       "    <tr>\n",
       "      <th>23081</th>\n",
       "      <td>840797</td>\n",
       "      <td>5.582371</td>\n",
       "    </tr>\n",
       "    <tr>\n",
       "      <th>23082</th>\n",
       "      <td>4880277</td>\n",
       "      <td>4.110732</td>\n",
       "    </tr>\n",
       "    <tr>\n",
       "      <th>23083</th>\n",
       "      <td>12816576</td>\n",
       "      <td>4.318025</td>\n",
       "    </tr>\n",
       "    <tr>\n",
       "      <th>23084</th>\n",
       "      <td>11626561</td>\n",
       "      <td>5.001296</td>\n",
       "    </tr>\n",
       "    <tr>\n",
       "      <th>23085</th>\n",
       "      <td>10051649</td>\n",
       "      <td>4.547145</td>\n",
       "    </tr>\n",
       "    <tr>\n",
       "      <th>23086</th>\n",
       "      <td>18406772</td>\n",
       "      <td>5.575959</td>\n",
       "    </tr>\n",
       "    <tr>\n",
       "      <th>23087</th>\n",
       "      <td>8776928</td>\n",
       "      <td>4.547145</td>\n",
       "    </tr>\n",
       "    <tr>\n",
       "      <th>23088</th>\n",
       "      <td>2811061</td>\n",
       "      <td>4.860720</td>\n",
       "    </tr>\n",
       "    <tr>\n",
       "      <th>23089</th>\n",
       "      <td>14606464</td>\n",
       "      <td>4.547145</td>\n",
       "    </tr>\n",
       "    <tr>\n",
       "      <th>23090</th>\n",
       "      <td>8564722</td>\n",
       "      <td>5.528416</td>\n",
       "    </tr>\n",
       "    <tr>\n",
       "      <th>23091</th>\n",
       "      <td>808919</td>\n",
       "      <td>4.553959</td>\n",
       "    </tr>\n",
       "    <tr>\n",
       "      <th>23092</th>\n",
       "      <td>10035324</td>\n",
       "      <td>5.291243</td>\n",
       "    </tr>\n",
       "    <tr>\n",
       "      <th>23093</th>\n",
       "      <td>1480015</td>\n",
       "      <td>5.491632</td>\n",
       "    </tr>\n",
       "    <tr>\n",
       "      <th>23094</th>\n",
       "      <td>8847624</td>\n",
       "      <td>5.001296</td>\n",
       "    </tr>\n",
       "    <tr>\n",
       "      <th>23095</th>\n",
       "      <td>18618632</td>\n",
       "      <td>3.799003</td>\n",
       "    </tr>\n",
       "    <tr>\n",
       "      <th>23096</th>\n",
       "      <td>6425382</td>\n",
       "      <td>4.322689</td>\n",
       "    </tr>\n",
       "    <tr>\n",
       "      <th>23097</th>\n",
       "      <td>7674543</td>\n",
       "      <td>4.804407</td>\n",
       "    </tr>\n",
       "    <tr>\n",
       "      <th>23098</th>\n",
       "      <td>12585689</td>\n",
       "      <td>6.236502</td>\n",
       "    </tr>\n",
       "    <tr>\n",
       "      <th>23099</th>\n",
       "      <td>17299278</td>\n",
       "      <td>4.110732</td>\n",
       "    </tr>\n",
       "    <tr>\n",
       "      <th>23100</th>\n",
       "      <td>18210259</td>\n",
       "      <td>4.957852</td>\n",
       "    </tr>\n",
       "    <tr>\n",
       "      <th>23101</th>\n",
       "      <td>1226155</td>\n",
       "      <td>4.484723</td>\n",
       "    </tr>\n",
       "    <tr>\n",
       "      <th>23102</th>\n",
       "      <td>16930596</td>\n",
       "      <td>4.482149</td>\n",
       "    </tr>\n",
       "    <tr>\n",
       "      <th>23103</th>\n",
       "      <td>10679702</td>\n",
       "      <td>4.804407</td>\n",
       "    </tr>\n",
       "    <tr>\n",
       "      <th>23104</th>\n",
       "      <td>13319386</td>\n",
       "      <td>4.547145</td>\n",
       "    </tr>\n",
       "    <tr>\n",
       "      <th>23105</th>\n",
       "      <td>18820769</td>\n",
       "      <td>5.541087</td>\n",
       "    </tr>\n",
       "    <tr>\n",
       "      <th>23106</th>\n",
       "      <td>15101498</td>\n",
       "      <td>4.484723</td>\n",
       "    </tr>\n",
       "    <tr>\n",
       "      <th>23107</th>\n",
       "      <td>298258</td>\n",
       "      <td>4.084482</td>\n",
       "    </tr>\n",
       "    <tr>\n",
       "      <th>23108</th>\n",
       "      <td>4917508</td>\n",
       "      <td>4.966983</td>\n",
       "    </tr>\n",
       "    <tr>\n",
       "      <th>23109</th>\n",
       "      <td>16645828</td>\n",
       "      <td>4.318025</td>\n",
       "    </tr>\n",
       "    <tr>\n",
       "      <th>23110</th>\n",
       "      <td>17797691</td>\n",
       "      <td>4.547145</td>\n",
       "    </tr>\n",
       "  </tbody>\n",
       "</table>\n",
       "<p>23111 rows × 2 columns</p>\n",
       "</div>"
      ],
      "text/plain": [
       "             id  log_price\n",
       "0        986942   4.547145\n",
       "1      16436737   4.602544\n",
       "2      18209634   4.091430\n",
       "3      15027024   4.318025\n",
       "4      18074243   5.361263\n",
       "5       8446914   4.553959\n",
       "6      19362916   5.240001\n",
       "7      16116059   5.477441\n",
       "8      20912583   4.318025\n",
       "9      13573101   4.969731\n",
       "10     15938749   5.071893\n",
       "11     13659214   3.980456\n",
       "12      6239753   4.699653\n",
       "13     11627400   5.151039\n",
       "14     17794295   4.515364\n",
       "15     15267276   5.183351\n",
       "16      9476370   5.001296\n",
       "17     14694999   5.218716\n",
       "18     19847012   4.746012\n",
       "19      8860277   4.547145\n",
       "20      2975445   5.527490\n",
       "21      1390712   4.992982\n",
       "22     16144412   4.235936\n",
       "23      1312673   4.857768\n",
       "24      6645473   4.547145\n",
       "25      7227023   5.551626\n",
       "26     17283456   5.151039\n",
       "27     13719227   4.459380\n",
       "28     11413078   4.181631\n",
       "29     15166399   4.318025\n",
       "...         ...        ...\n",
       "23081    840797   5.582371\n",
       "23082   4880277   4.110732\n",
       "23083  12816576   4.318025\n",
       "23084  11626561   5.001296\n",
       "23085  10051649   4.547145\n",
       "23086  18406772   5.575959\n",
       "23087   8776928   4.547145\n",
       "23088   2811061   4.860720\n",
       "23089  14606464   4.547145\n",
       "23090   8564722   5.528416\n",
       "23091    808919   4.553959\n",
       "23092  10035324   5.291243\n",
       "23093   1480015   5.491632\n",
       "23094   8847624   5.001296\n",
       "23095  18618632   3.799003\n",
       "23096   6425382   4.322689\n",
       "23097   7674543   4.804407\n",
       "23098  12585689   6.236502\n",
       "23099  17299278   4.110732\n",
       "23100  18210259   4.957852\n",
       "23101   1226155   4.484723\n",
       "23102  16930596   4.482149\n",
       "23103  10679702   4.804407\n",
       "23104  13319386   4.547145\n",
       "23105  18820769   5.541087\n",
       "23106  15101498   4.484723\n",
       "23107    298258   4.084482\n",
       "23108   4917508   4.966983\n",
       "23109  16645828   4.318025\n",
       "23110  17797691   4.547145\n",
       "\n",
       "[23111 rows x 2 columns]"
      ]
     },
     "execution_count": 19,
     "metadata": {},
     "output_type": "execute_result"
    }
   ],
   "source": [
    "df_prediction = df_test[X_columns].fillna(0.0)\n",
    "df_test['log_price'] = model.predict(df_prediction)\n",
    "df_test[['id', 'log_price']]"
   ]
  },
  {
   "cell_type": "code",
   "execution_count": 20,
   "metadata": {},
   "outputs": [],
   "source": [
    "df_test[['id', 'log_price']].to_csv('submission_linear_regression.csv', index=False)"
   ]
  },
  {
   "cell_type": "code",
   "execution_count": null,
   "metadata": {},
   "outputs": [],
   "source": []
  }
 ],
 "metadata": {
  "kernelspec": {
   "display_name": "Python 3",
   "language": "python",
   "name": "python3"
  },
  "language_info": {
   "codemirror_mode": {
    "name": "ipython",
    "version": 3
   },
   "file_extension": ".py",
   "mimetype": "text/x-python",
   "name": "python",
   "nbconvert_exporter": "python",
   "pygments_lexer": "ipython3",
   "version": "3.7.1"
  }
 },
 "nbformat": 4,
 "nbformat_minor": 2
}
